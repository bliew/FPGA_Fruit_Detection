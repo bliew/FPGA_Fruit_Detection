{
 "cells": [
  {
   "cell_type": "code",
   "execution_count": 11,
   "metadata": {},
   "outputs": [],
   "source": [
    "from pynq import Overlay\n",
    "import numpy as np\n",
    "overlay = Overlay('overlay/sobel_core.bit')"
   ]
  },
  {
   "cell_type": "code",
   "execution_count": 13,
   "metadata": {},
   "outputs": [
    {
     "data": {
      "text/plain": [
       "{'conv_0': {'addr_range': 65536,\n",
       "  'device': <pynq.pl_server.device.XlnkDevice at 0xb0280650>,\n",
       "  'driver': pynq.overlay.DefaultIP,\n",
       "  'fullpath': 'conv_0',\n",
       "  'gpio': {},\n",
       "  'interrupts': {},\n",
       "  'mem_id': 's_axi_CTRL_BUS',\n",
       "  'parameters': {'C_M_AXI_CTRL_BUS_ADDR_WIDTH': '32',\n",
       "   'C_M_AXI_CTRL_BUS_ARUSER_WIDTH': '1',\n",
       "   'C_M_AXI_CTRL_BUS_AWUSER_WIDTH': '1',\n",
       "   'C_M_AXI_CTRL_BUS_BUSER_WIDTH': '1',\n",
       "   'C_M_AXI_CTRL_BUS_CACHE_VALUE': '\"0011\"',\n",
       "   'C_M_AXI_CTRL_BUS_DATA_WIDTH': '32',\n",
       "   'C_M_AXI_CTRL_BUS_ENABLE_ID_PORTS': 'false',\n",
       "   'C_M_AXI_CTRL_BUS_ENABLE_USER_PORTS': 'false',\n",
       "   'C_M_AXI_CTRL_BUS_ID_WIDTH': '1',\n",
       "   'C_M_AXI_CTRL_BUS_PROT_VALUE': '\"000\"',\n",
       "   'C_M_AXI_CTRL_BUS_RUSER_WIDTH': '1',\n",
       "   'C_M_AXI_CTRL_BUS_USER_VALUE': '0x00000000',\n",
       "   'C_M_AXI_CTRL_BUS_WUSER_WIDTH': '1',\n",
       "   'C_S_AXI_CTRL_BUS_ADDR_WIDTH': '5',\n",
       "   'C_S_AXI_CTRL_BUS_BASEADDR': '0x43C00000',\n",
       "   'C_S_AXI_CTRL_BUS_DATA_WIDTH': '32',\n",
       "   'C_S_AXI_CTRL_BUS_HIGHADDR': '0x43C0FFFF',\n",
       "   'Component_Name': 'design_1_conv_0_0',\n",
       "   'EDK_IPTYPE': 'PERIPHERAL',\n",
       "   'II': 'x',\n",
       "   'clk_period': '10',\n",
       "   'combinational': '0',\n",
       "   'latency': '10420',\n",
       "   'machine': '64'},\n",
       "  'phys_addr': 1136656384,\n",
       "  'registers': {'CTRL': {'access': 'read-write',\n",
       "    'address_offset': 0,\n",
       "    'description': 'Control signals',\n",
       "    'fields': {'AP_DONE': {'access': 'read-only',\n",
       "      'bit_offset': 1,\n",
       "      'bit_width': 1,\n",
       "      'description': 'Control signals'},\n",
       "     'AP_IDLE': {'access': 'read-only',\n",
       "      'bit_offset': 2,\n",
       "      'bit_width': 1,\n",
       "      'description': 'Control signals'},\n",
       "     'AP_READY': {'access': 'read-only',\n",
       "      'bit_offset': 3,\n",
       "      'bit_width': 1,\n",
       "      'description': 'Control signals'},\n",
       "     'AP_START': {'access': 'read-write',\n",
       "      'bit_offset': 0,\n",
       "      'bit_width': 1,\n",
       "      'description': 'Control signals'},\n",
       "     'AUTO_RESTART': {'access': 'read-write',\n",
       "      'bit_offset': 7,\n",
       "      'bit_width': 1,\n",
       "      'description': 'Control signals'},\n",
       "     'RESERVED_1': {'access': 'read-only',\n",
       "      'bit_offset': 4,\n",
       "      'bit_width': 3,\n",
       "      'description': 'Control signals'},\n",
       "     'RESERVED_2': {'access': 'read-only',\n",
       "      'bit_offset': 8,\n",
       "      'bit_width': 24,\n",
       "      'description': 'Control signals'}},\n",
       "    'size': 32},\n",
       "   'GIER': {'access': 'read-write',\n",
       "    'address_offset': 4,\n",
       "    'description': 'Global Interrupt Enable Register',\n",
       "    'fields': {'Enable': {'access': 'read-write',\n",
       "      'bit_offset': 0,\n",
       "      'bit_width': 1,\n",
       "      'description': 'Global Interrupt Enable Register'},\n",
       "     'RESERVED': {'access': 'read-only',\n",
       "      'bit_offset': 1,\n",
       "      'bit_width': 31,\n",
       "      'description': 'Global Interrupt Enable Register'}},\n",
       "    'size': 32},\n",
       "   'IP_IER': {'access': 'read-write',\n",
       "    'address_offset': 8,\n",
       "    'description': 'IP Interrupt Enable Register',\n",
       "    'fields': {'CHAN0_INT_EN': {'access': 'read-write',\n",
       "      'bit_offset': 0,\n",
       "      'bit_width': 1,\n",
       "      'description': 'IP Interrupt Enable Register'},\n",
       "     'CHAN1_INT_EN': {'access': 'read-write',\n",
       "      'bit_offset': 1,\n",
       "      'bit_width': 1,\n",
       "      'description': 'IP Interrupt Enable Register'},\n",
       "     'RESERVED': {'access': 'read-only',\n",
       "      'bit_offset': 2,\n",
       "      'bit_width': 30,\n",
       "      'description': 'IP Interrupt Enable Register'}},\n",
       "    'size': 32},\n",
       "   'IP_ISR': {'access': 'read-write',\n",
       "    'address_offset': 12,\n",
       "    'description': 'IP Interrupt Status Register',\n",
       "    'fields': {'CHAN0_INT_ST': {'access': 'read-only',\n",
       "      'bit_offset': 0,\n",
       "      'bit_width': 1,\n",
       "      'description': 'IP Interrupt Status Register'},\n",
       "     'CHAN1_INT_ST': {'access': 'read-only',\n",
       "      'bit_offset': 1,\n",
       "      'bit_width': 1,\n",
       "      'description': 'IP Interrupt Status Register'},\n",
       "     'RESERVED': {'access': 'read-only',\n",
       "      'bit_offset': 2,\n",
       "      'bit_width': 30,\n",
       "      'description': 'IP Interrupt Status Register'}},\n",
       "    'size': 32},\n",
       "   'image_in': {'access': 'write-only',\n",
       "    'address_offset': 16,\n",
       "    'description': 'Data signal of image_in',\n",
       "    'fields': {'image_in': {'access': 'write-only',\n",
       "      'bit_offset': 0,\n",
       "      'bit_width': 32,\n",
       "      'description': 'Data signal of image_in'}},\n",
       "    'size': 32},\n",
       "   'image_out': {'access': 'write-only',\n",
       "    'address_offset': 24,\n",
       "    'description': 'Data signal of image_out',\n",
       "    'fields': {'image_out': {'access': 'write-only',\n",
       "      'bit_offset': 0,\n",
       "      'bit_width': 32,\n",
       "      'description': 'Data signal of image_out'}},\n",
       "    'size': 32}},\n",
       "  'state': None,\n",
       "  'type': 'xilinx.com:hls:conv:1.0'}}"
      ]
     },
     "execution_count": 13,
     "metadata": {},
     "output_type": "execute_result"
    }
   ],
   "source": [
    "overlay.ip_dict\n",
    "#help(overlay)"
   ]
  },
  {
   "cell_type": "code",
   "execution_count": 15,
   "metadata": {},
   "outputs": [
    {
     "data": {
      "image/png": "[encoded data removed]",
      "text/plain": [
       "<PIL.JpegImagePlugin.JpegImageFile image mode=RGB size=100x100 at 0xAF945510>"
      ]
     },
     "metadata": {},
     "output_type": "display_data"
    },
    {
     "data": {
      "image/png": "[encoded data removed]",
      "text/plain": [
       "<PIL.Image.Image image mode=RGB size=100x100 at 0xAF945450>"
      ]
     },
     "metadata": {},
     "output_type": "display_data"
    },
    {
     "ename": "AttributeError",
     "evalue": "'DefaultIP' object has no attribute 'sendchannel'",
     "output_type": "error",
     "traceback": [
      "\u001b[0;31m---------------------------------------------------------------------------\u001b[0m",
      "\u001b[0;31mAttributeError\u001b[0m                            Traceback (most recent call last)",
      "\u001b[0;32m<ipython-input-15-72d8d5def7e7>\u001b[0m in \u001b[0;36m<module>\u001b[0;34m()\u001b[0m\n\u001b[1;32m     25\u001b[0m \u001b[0mdisplay\u001b[0m\u001b[0;34m(\u001b[0m\u001b[0mbuffer_image\u001b[0m\u001b[0;34m)\u001b[0m\u001b[0;34m\u001b[0m\u001b[0m\n\u001b[1;32m     26\u001b[0m \u001b[0;34m\u001b[0m\u001b[0m\n\u001b[0;32m---> 27\u001b[0;31m \u001b[0mconv\u001b[0m\u001b[0;34m.\u001b[0m\u001b[0msendchannel\u001b[0m\u001b[0;34m.\u001b[0m\u001b[0mtransfer\u001b[0m\u001b[0;34m(\u001b[0m\u001b[0mfruit\u001b[0m\u001b[0;34m)\u001b[0m\u001b[0;34m\u001b[0m\u001b[0m\n\u001b[0m\u001b[1;32m     28\u001b[0m \u001b[0mconv\u001b[0m\u001b[0;34m.\u001b[0m\u001b[0mrecvchannel\u001b[0m\u001b[0;34m.\u001b[0m\u001b[0mtransfer\u001b[0m\u001b[0;34m(\u001b[0m\u001b[0mfruit\u001b[0m\u001b[0;34m)\u001b[0m\u001b[0;34m\u001b[0m\u001b[0m\n\u001b[1;32m     29\u001b[0m \u001b[0mconv\u001b[0m\u001b[0;34m.\u001b[0m\u001b[0msendchannel\u001b[0m\u001b[0;34m.\u001b[0m\u001b[0mwait\u001b[0m\u001b[0;34m(\u001b[0m\u001b[0;34m)\u001b[0m\u001b[0;34m\u001b[0m\u001b[0m\n",
      "\u001b[0;31mAttributeError\u001b[0m: 'DefaultIP' object has no attribute 'sendchannel'"
     ]
    }
   ],
   "source": [
    "import pynq\n",
    "import numpy as np\n",
    "from PIL import Image\n",
    "from IPython.display import display\n",
    "from pynq import DefaultIP\n",
    "from pynq import Xlnk\n",
    "from pynq import Overlay\n",
    "\n",
    "overlay = Overlay('overlay/sobel_core.bit')\n",
    "conv = overlay.conv_0\n",
    "\n",
    "#display the original image\n",
    "fruit = Image.open(\"pineapple.jpg\")\n",
    "fruit.load()\n",
    "display(fruit)\n",
    "\n",
    "#load interfacing\n",
    "xlnk=Xlnk()\n",
    "input_buffer = xlnk.cma_array(shape=(100,100,3), dtype=np.uint8, cacheable=1)\n",
    "output_buffer = xlnk.cma_array(shape=(100,100,3), dtype=np.uint8, cacheable=1)\n",
    "hex(in_buffer.physical_address)\n",
    "hex(out_buffer.physical_address)\n",
    "input_array=in_buffer[0:100*100*3]\n",
    "buffer_image = Image.fromarray(in_buffer)\n",
    "display(buffer_image)\n",
    "\n",
    "conv.sendchannel.transfer(fruit)\n",
    "conv.recvchannel.transfer(fruit)\n",
    "conv.sendchannel.wait()\n",
    "conv.recvchannel.wait()"
   ]
  },
  {
   "cell_type": "code",
   "execution_count": null,
   "metadata": {},
   "outputs": [],
   "source": []
  }
 ],
 "metadata": {
  "kernelspec": {
   "display_name": "Python 3",
   "language": "python",
   "name": "python3"
  },
  "language_info": {
   "codemirror_mode": {
    "name": "ipython",
    "version": 3
   },
   "file_extension": ".py",
   "mimetype": "text/x-python",
   "name": "python",
   "nbconvert_exporter": "python",
   "pygments_lexer": "ipython3",
   "version": "3.6.5"
  }
 },
 "nbformat": 4,
 "nbformat_minor": 2
}
